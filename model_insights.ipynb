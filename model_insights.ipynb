{
 "cells": [
  {
   "cell_type": "code",
   "execution_count": 63,
   "metadata": {},
   "outputs": [],
   "source": [
    "import pandas as pd\n",
    "import numpy as np\n",
    "\n",
    "input_file_path = 'bank-full.csv'\n",
    "df_full = pd.read_csv(input_file_path, sep=\";\")"
   ]
  },
  {
   "cell_type": "code",
   "execution_count": 64,
   "metadata": {},
   "outputs": [
    {
     "name": "stdout",
     "output_type": "stream",
     "text": [
      "current_subscription_rate (%): 0.12\n",
      "current subscription prob (1 in every): 8.55\n"
     ]
    }
   ],
   "source": [
    "## in the original data, how many prospects did we call, and how many of those turned into suscribers?\n",
    "current_subscription_rate = float((df_full['y'] == 'yes').mean())\n",
    "print(f\"current_subscription_rate (%): {round(current_subscription_rate,2)}\")\n",
    "print(f\"current subscription prob (1 in every): {round(1/current_subscription_rate,2)}\")"
   ]
  },
  {
   "cell_type": "code",
   "execution_count": 65,
   "metadata": {},
   "outputs": [
    {
     "name": "stdout",
     "output_type": "stream",
     "text": [
      "number of users in test set: 9043\n",
      "number of prospects model outputs to contact: 1200\n",
      "model subscription rate (%): 0.43\n",
      "model subscription prob (1 in every): 2.33\n"
     ]
    }
   ],
   "source": [
    "## from our model output, how many prospects should we call, and how many of those do we predict turn into suscribers?\n",
    "print(f\"number of users in test set: {7235+750+542+516}\")\n",
    "print(f\"number of prospects model outputs to contact: 1200\") \n",
    "print(f\"model subscription rate (%): {516/1200}\")\n",
    "print(f\"model subscription prob (1 in every): {round(1/0.43,2)}\")"
   ]
  },
  {
   "cell_type": "code",
   "execution_count": null,
   "metadata": {},
   "outputs": [],
   "source": [
    "\n"
   ]
  }
 ],
 "metadata": {
  "kernelspec": {
   "display_name": "venv",
   "language": "python",
   "name": "python3"
  },
  "language_info": {
   "codemirror_mode": {
    "name": "ipython",
    "version": 3
   },
   "file_extension": ".py",
   "mimetype": "text/x-python",
   "name": "python",
   "nbconvert_exporter": "python",
   "pygments_lexer": "ipython3",
   "version": "3.9.6"
  }
 },
 "nbformat": 4,
 "nbformat_minor": 2
}
